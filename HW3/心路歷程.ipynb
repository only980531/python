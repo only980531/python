{
 "cells": [
  {
   "cell_type": "markdown",
   "metadata": {},
   "source": [
    "由於我還沒做過linklist，所以對我來說，用節點來儲存數值是一種很陌生的概念，所以我先了解Node是怎麼運作的。在尋求同學的解釋後。我\n",
    "的理解是，把一個val(數值)丟進tree時，那個數字會因為要遵守tree的規則，而被跟一個pointer裝成一個節點，而不是原來就有tree的架構跟pointer，\n",
    "然後把數字丟進去。稍微了解節點跟tree是怎麼運作後，我便試著寫寫看insert，一開始我先用紙寫下自己的想法，我的想法是:由外而內想出可能存在\n",
    "的狀況(通常外是指某個子節點或root存不存在，內則是比較某個節點跟新來的數字的大小，有>、<、=、三種情形)，寫出大概的架構後把它寫成程式碼\n",
    "的形式，然後打在jupyter上面，毫無疑問的百分之兩百會error，error時先自己看看哪裡出了問題，不會的話則去向同學討教，當按下run時，沒有error\n",
    "時，就會覺得滿有成就感的。有一件很重要的事，有時候同學會說他這個部分參考某網站，說我可疑去看看，但每一次都是看不太懂上面寫的邏輯，導致\n",
    "我還是得自己重新再想一次......"
   ]
  },
  {
   "cell_type": "code",
   "execution_count": null,
   "metadata": {},
   "outputs": [],
   "source": []
  }
 ],
 "metadata": {
  "kernelspec": {
   "display_name": "Python 3",
   "language": "python",
   "name": "python3"
  },
  "language_info": {
   "codemirror_mode": {
    "name": "ipython",
    "version": 3
   },
   "file_extension": ".py",
   "mimetype": "text/x-python",
   "name": "python",
   "nbconvert_exporter": "python",
   "pygments_lexer": "ipython3",
   "version": "3.7.1"
  }
 },
 "nbformat": 4,
 "nbformat_minor": 2
}
