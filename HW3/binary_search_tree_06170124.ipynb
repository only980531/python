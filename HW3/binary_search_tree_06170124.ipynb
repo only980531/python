{
 "cells": [
  {
   "cell_type": "code",
   "execution_count": 13,
   "metadata": {},
   "outputs": [],
   "source": [
    "class TreeNode(object):\n",
    "    def __init__(self,x):\n",
    "        self.val=x\n",
    "        self.left=None\n",
    "        self.right=None\n",
    "       \n",
    "        \n",
    "class Solution(object):\n",
    "    def insert(self,root,val):\n",
    "        if root!=None:\n",
    "            if val >root.val:\n",
    "                if root.right==None:\n",
    "                    root.right=TreeNode(val)\n",
    "                    return root.right\n",
    "                else:\n",
    "                    root.right=Solution.insert(self,root.right,val)\n",
    "                \n",
    "            else:\n",
    "                if root.left==None:\n",
    "                    root.left=TreeNode(val)\n",
    "                    return root.left\n",
    "                else:\n",
    "                    root.left=Solution.insert(self,root.left,val)\n",
    "        else:\n",
    "            root=TreeNode(val)\n",
    "            return root\n",
    "                \n",
    "    def search(self,root,target):\n",
    "        if root!=None:\n",
    "            if root.val==target:\n",
    "                return root\n",
    "            elif root.val<target:\n",
    "                return Solution.search(self,root.right,target)\n",
    "            else:\n",
    "                return Solution.search(self,root.left,target)\n",
    "        else:\n",
    "            return None\n",
    "        \n",
    "    def delete(self,root,target):\n",
    "        if root!=None:\n",
    "            if root.val==target:\n",
    "                if root.left==None and root.right==None:\n",
    "                    root=None\n",
    "                elif root.left!=None and root.right==None:\n",
    "                    root=root.left\n",
    "                elif root.left==None and root.right!=None:\n",
    "                    root=root.right\n",
    "                \n",
    "            elif root.val<target:\n",
    "                Solution.delete(self,root.left,target)\n",
    "            else:\n",
    "                Solution.delete(self,root.right,target)\n",
    "        else:\n",
    "            return None"
   ]
  },
  {
   "cell_type": "code",
   "execution_count": 14,
   "metadata": {},
   "outputs": [],
   "source": [
    "root = TreeNode(5)\n",
    "root.left = TreeNode(3)  \n",
    "root.left.left = TreeNode(3) \n",
    "root.left.left.left = TreeNode(-5) \n",
    "root.right = TreeNode(8)\n",
    "root.right.left = TreeNode(7) \n",
    "root.right.left.left = TreeNode(6)\n",
    "root.right.right = TreeNode(10)"
   ]
  },
  {
   "cell_type": "code",
   "execution_count": 15,
   "metadata": {},
   "outputs": [
    {
     "name": "stdout",
     "output_type": "stream",
     "text": [
      "True\n"
     ]
    }
   ],
   "source": [
    "print(Solution().insert(root,4)==root.left.right)"
   ]
  },
  {
   "cell_type": "code",
   "execution_count": 16,
   "metadata": {},
   "outputs": [
    {
     "name": "stdout",
     "output_type": "stream",
     "text": [
      "True\n"
     ]
    }
   ],
   "source": [
    "print(Solution().search(root,10)==root.right.right)"
   ]
  },
  {
   "cell_type": "code",
   "execution_count": null,
   "metadata": {},
   "outputs": [],
   "source": []
  }
 ],
 "metadata": {
  "kernelspec": {
   "display_name": "Python 3",
   "language": "python",
   "name": "python3"
  },
  "language_info": {
   "codemirror_mode": {
    "name": "ipython",
    "version": 3
   },
   "file_extension": ".py",
   "mimetype": "text/x-python",
   "name": "python",
   "nbconvert_exporter": "python",
   "pygments_lexer": "ipython3",
   "version": "3.7.1"
  }
 },
 "nbformat": 4,
 "nbformat_minor": 2
}
