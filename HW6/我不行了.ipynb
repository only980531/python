{
 "cells": [
  {
   "cell_type": "markdown",
   "metadata": {},
   "source": [
    "以往的作業，先找出程式碼的流程，把想到的步驟一句換成程式碼，這次也不例外，但我遇到了滿多問題的，例如怎麼樣給他兩兩個位置列如:\n",
    "graph[s][i]+graph[i][j] 能不能自己生成 三個以上的數寫迴圈\n",
    "![](https://github.com/only980531/python/blob/master/%E7%B5%95%E6%9C%9B%E9%98%BF.jpg?raw=true)\n",
    "看了很多網站，，但結果失敗了，感覺這次遇到了前所未有的挫折，看來我回去好好把基本功加強了QQ\n",
    "![](https://github.com/only980531/python/blob/master/%E5%A5%BD%E9%9B%A3%E5%95%8A.jpg?raw=true)\n",
    "![](https://github.com/only980531/python/blob/master/gg.jpg?raw=true)"
   ]
  },
  {
   "cell_type": "code",
   "execution_count": null,
   "metadata": {},
   "outputs": [],
   "source": []
  }
 ],
 "metadata": {
  "kernelspec": {
   "display_name": "Python 3",
   "language": "python",
   "name": "python3"
  },
  "language_info": {
   "codemirror_mode": {
    "name": "ipython",
    "version": 3
   },
   "file_extension": ".py",
   "mimetype": "text/x-python",
   "name": "python",
   "nbconvert_exporter": "python",
   "pygments_lexer": "ipython3",
   "version": "3.7.1"
  }
 },
 "nbformat": 4,
 "nbformat_minor": 2
}
