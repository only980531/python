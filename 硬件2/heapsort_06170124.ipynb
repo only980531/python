{
 "cells": [
  {
   "cell_type": "code",
   "execution_count": 13,
   "metadata": {
    "scrolled": true
   },
   "outputs": [
    {
     "name": "stdout",
     "output_type": "stream",
     "text": [
      "[]\n"
     ]
    },
    {
     "data": {
      "text/plain": [
       "[10, 9, 8, 7, 6, 5, 4, 3, 2, 1]"
      ]
     },
     "execution_count": 13,
     "metadata": {},
     "output_type": "execute_result"
    }
   ],
   "source": [
    "data=[1,2,3,4,5,6,7,8,9,10]\n",
    "z=[]\n",
    "def heapsort(data):\n",
    "    i=len(data)//2-1#配合電腦沒電那張圖片使用，我先假設有腳的位置叫i，右腳在計算過後便是2i+2，左腳是2i-1\n",
    "    while i>=0:#我把最後一個有腳的點的位置設為初始的，然後往前-1到變成第0位，因為第0位是最後一個有角的位置#這一步我卡超久，因為有時候沒有右腳會out of index\n",
    "        if 2*i+2 > len(data)-1:#這一步我卡超久，我原本沒有設這個if，因為沒考慮到(圖片)，結果，所以我有時候沒有右腳會list is out of index，\n",
    "            while data[i]<=data[2*i+1]:#所以我多加了如果只有左腳的狀況，試了幾個限制條件結果不行，剛剛看著圖用假設的方式試這個方法，結果成功了，怎麼假設可以當面回答#\n",
    "                data[i],data[2*i+1]=data[2*i+1],data[i]\n",
    "            i-=1\n",
    "        else:\n",
    "            while data[i]<=data[2*i+1]:    #如果左腳或右腳大於上面就交換位置\n",
    "                data[i],data[2*i+1]=data[2*i+1],data[i]\n",
    "            while data[i]<=data[2*i+2]:\n",
    "                data[i],data[2*i+2]=data[2*i+2],data[i]\n",
    "            i-=1 \n",
    "    data[0],data[-1]=data[-1],data[0] #換到最後最大的數會在第1個，我把它跟最後一位交換，再把它放入z，原本想先移出第1位，但感覺把最後一位放到第1位在移掉更麻煩。          #\n",
    "    z.append(data[-1])          \n",
    "    data.pop(-1)\n",
    "while len(data)>0: #然後重複移出最大的數，此時data持續變小，Z持續變大   #終於完成了!!! ，然後\n",
    "    heapsort(data)\n",
    "print(data)\n",
    "z   #終於完成了!!! ，然後改成作業統一的格式，下面那格"
   ]
  },
  {
   "cell_type": "code",
   "execution_count": 10,
   "metadata": {},
   "outputs": [
    {
     "data": {
      "text/plain": [
       "[10, 9, 8, 7, 6, 5, 4, 3, 2, 1]"
      ]
     },
     "execution_count": 10,
     "metadata": {},
     "output_type": "execute_result"
    }
   ],
   "source": [
    "class Solution(object):\n",
    "    def heapsort(data):\n",
    "        z=[]\n",
    "        i=len(data)//2-1\n",
    "        while i>=0:\n",
    "            if 2*i+2 > len(data)-1:\n",
    "                while data[i]<=data[2*i+1]:\n",
    "                    data[i],data[2*i+1]=data[2*i+1],data[i]\n",
    "                i-=1\n",
    "            else:\n",
    "                while data[i]<=data[2*i+1]:\n",
    "                    data[i],data[2*i+1]=data[2*i+1],data[i]\n",
    "                while data[i]<=data[2*i+2]:\n",
    "                    data[i],data[2*i+2]=data[2*i+2],data[i]\n",
    "                i-=1 \n",
    "        data[0],data[-1]=data[-1],data[0]\n",
    "        z.append(data[-1])\n",
    "        data.pop(-1)\n",
    "    while len(data)>0:\n",
    "        heapsort(data)\n",
    "        \n",
    "data=[1,2,3,4,5,6,7,8,9,10]\n",
    "output = z\n",
    "output"
   ]
  },
  {
   "cell_type": "code",
   "execution_count": null,
   "metadata": {},
   "outputs": [],
   "source": []
  },
  {
   "cell_type": "code",
   "execution_count": 26,
   "metadata": {},
   "outputs": [
    {
     "name": "stdout",
     "output_type": "stream",
     "text": [
      "[8, 1, 6, 2, 10, 3, 7, 4, 9, 5]\n"
     ]
    }
   ],
   "source": [
    "def heapsort(data):\n",
    "    i=len(data)//2-1\n",
    "    while i>=0:\n",
    "        \n",
    "   \n",
    "      \n",
    "            while data[i]<=data[2*i+1]:\n",
    "                data[i],data[2*i+1]=data[2*i+1],data[i]\n",
    "            \n",
    "            if 2*i+2!=range(len(data)):\n",
    "                i-=1\n",
    "                continue\n",
    "            while data[i]<=data[2*i+2]:\n",
    "                data[i],data[2*i+2]=data[2*i+2],data[i]\n",
    "                i-=1\n",
    "                \n",
    "            \n",
    "heapsort(data)\n",
    "print(data)"
   ]
  },
  {
   "cell_type": "code",
   "execution_count": 7,
   "metadata": {},
   "outputs": [
    {
     "ename": "KeyboardInterrupt",
     "evalue": "",
     "output_type": "error",
     "traceback": [
      "\u001b[1;31m---------------------------------------------------------------------------\u001b[0m",
      "\u001b[1;31mKeyboardInterrupt\u001b[0m                         Traceback (most recent call last)",
      "\u001b[1;32m<ipython-input-7-78b9f8b00a9f>\u001b[0m in \u001b[0;36m<module>\u001b[1;34m\u001b[0m\n\u001b[0;32m     15\u001b[0m \u001b[1;33m\u001b[0m\u001b[0m\n\u001b[0;32m     16\u001b[0m \u001b[1;33m\u001b[0m\u001b[0m\n\u001b[1;32m---> 17\u001b[1;33m \u001b[0mheapsort\u001b[0m\u001b[1;33m(\u001b[0m\u001b[0mdata\u001b[0m\u001b[1;33m)\u001b[0m\u001b[1;33m\u001b[0m\u001b[1;33m\u001b[0m\u001b[0m\n\u001b[0m\u001b[0;32m     18\u001b[0m \u001b[0mprint\u001b[0m\u001b[1;33m(\u001b[0m\u001b[0mdata\u001b[0m\u001b[1;33m)\u001b[0m\u001b[1;33m\u001b[0m\u001b[1;33m\u001b[0m\u001b[0m\n",
      "\u001b[1;32m<ipython-input-7-78b9f8b00a9f>\u001b[0m in \u001b[0;36mheapsort\u001b[1;34m(data)\u001b[0m\n\u001b[0;32m     12\u001b[0m               \u001b[1;32mwhile\u001b[0m \u001b[0mdata\u001b[0m\u001b[1;33m[\u001b[0m\u001b[0mi\u001b[0m\u001b[1;33m]\u001b[0m\u001b[1;33m<=\u001b[0m\u001b[0mdata\u001b[0m\u001b[1;33m[\u001b[0m\u001b[1;36m2\u001b[0m\u001b[1;33m*\u001b[0m\u001b[0mi\u001b[0m\u001b[1;33m+\u001b[0m\u001b[1;36m1\u001b[0m\u001b[1;33m]\u001b[0m\u001b[1;33m:\u001b[0m\u001b[1;33m\u001b[0m\u001b[1;33m\u001b[0m\u001b[0m\n\u001b[0;32m     13\u001b[0m                 \u001b[0mdata\u001b[0m\u001b[1;33m[\u001b[0m\u001b[0mi\u001b[0m\u001b[1;33m]\u001b[0m\u001b[1;33m,\u001b[0m\u001b[0mdata\u001b[0m\u001b[1;33m[\u001b[0m\u001b[1;36m2\u001b[0m\u001b[1;33m*\u001b[0m\u001b[0mi\u001b[0m\u001b[1;33m+\u001b[0m\u001b[1;36m1\u001b[0m\u001b[1;33m]\u001b[0m\u001b[1;33m=\u001b[0m\u001b[0mdata\u001b[0m\u001b[1;33m[\u001b[0m\u001b[1;36m2\u001b[0m\u001b[1;33m*\u001b[0m\u001b[0mi\u001b[0m\u001b[1;33m+\u001b[0m\u001b[1;36m1\u001b[0m\u001b[1;33m]\u001b[0m\u001b[1;33m,\u001b[0m\u001b[0mdata\u001b[0m\u001b[1;33m[\u001b[0m\u001b[0mi\u001b[0m\u001b[1;33m]\u001b[0m\u001b[1;33m\u001b[0m\u001b[1;33m\u001b[0m\u001b[0m\n\u001b[1;32m---> 14\u001b[1;33m                 \u001b[0mi\u001b[0m\u001b[1;33m-=\u001b[0m\u001b[1;36m1\u001b[0m\u001b[1;33m\u001b[0m\u001b[1;33m\u001b[0m\u001b[0m\n\u001b[0m\u001b[0;32m     15\u001b[0m \u001b[1;33m\u001b[0m\u001b[0m\n\u001b[0;32m     16\u001b[0m \u001b[1;33m\u001b[0m\u001b[0m\n",
      "\u001b[1;31mKeyboardInterrupt\u001b[0m: "
     ]
    }
   ],
   "source": [
    "def heapsort(data):\n",
    "    i=len(data)//2-1\n",
    "    while i>=0:\n",
    "        if 2*i+2==range(len(data)-1):\n",
    "            while data[i]<=data[2*i+1]:\n",
    "                data[i],data[2*i+1]=data[2*i+1],data[i]\n",
    "            while data[i]<=data[2*i+2]:\n",
    "                data[i],data[2*i+2]=data[2*i+2],data[i]\n",
    "            i-=1 \n",
    "          \n",
    "        else:\n",
    "              while data[i]<=data[2*i+1]:\n",
    "                data[i],data[2*i+1]=data[2*i+1],data[i]\n",
    "                i-=1\n",
    "            \n",
    "           \n",
    "heapsort(data)\n",
    "print(data)"
   ]
  },
  {
   "cell_type": "code",
   "execution_count": 5,
   "metadata": {},
   "outputs": [
    {
     "data": {
      "text/plain": [
       "False"
      ]
     },
     "execution_count": 5,
     "metadata": {},
     "output_type": "execute_result"
    }
   ],
   "source": [
    "12==len(data)-1"
   ]
  },
  {
   "cell_type": "code",
   "execution_count": null,
   "metadata": {},
   "outputs": [],
   "source": [
    "def heapsort(data):\n",
    "    i=len(data)//2-1\n",
    "    while i>=0:\n",
    "        if 2*i+2!=range(len(data)):\n",
    "            while data[i]<=data[2*i+1]:\n",
    "                data[i],data[2*i+1]=data[2*i+1],data[i]\n",
    "                i-=1\n",
    "        else:\n",
    "            while data[i]<=data[2*i+1]:\n",
    "                data[i],data[2*i+1]=data[2*i+1],data[i]\n",
    "            while data[i]<=data[2*i+2]:\n",
    "                data[i],data[2*i+2]=data[2*i+2],data[i]\n",
    "            i-=1\n",
    "heapsort(data)\n",
    "print(data)"
   ]
  }
 ],
 "metadata": {
  "kernelspec": {
   "display_name": "Python 3",
   "language": "python",
   "name": "python3"
  },
  "language_info": {
   "codemirror_mode": {
    "name": "ipython",
    "version": 3
   },
   "file_extension": ".py",
   "mimetype": "text/x-python",
   "name": "python",
   "nbconvert_exporter": "python",
   "pygments_lexer": "ipython3",
   "version": "3.7.1"
  }
 },
 "nbformat": 4,
 "nbformat_minor": 2
}
