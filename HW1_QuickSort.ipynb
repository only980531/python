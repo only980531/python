data = [56,98,56,35,94,65,65,38,75,72,48,95,86,31,2]
def quick_sort(data,left,right):
    if left>=right: #如果左邊的數>=右邊的數,因為排序不對,所以執行下面排序
        return
    l=left
    r=right
    key=data[right] #設右邊的數為基準點
    
    while l!=r:
        while data[l]<key and l<r: #左邊的部分如果l的位置在key(基準點)的左邊,且l<r,往後看下一個數
            l+=1
        while data[r]>=key and l<r:#右邊的部分如果r的位置等於或在key的右邊,且l<r,往前看上一個數
            r-=1
        if l<r: #如果l<r但相對位置不對則交換位置
            data[l],data[r]=data[r],data[l] 
       
    data[right]=data[r]
    data[r]=key
    
    quick_sort(data,left,r-1)
    quick_sort(data,r+1,right)
        
quick_sort(data, 0, len(data)-1)
print(data) 
