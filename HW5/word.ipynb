{
 "cells": [
  {
   "cell_type": "markdown",
   "metadata": {},
   "source": [
    "### 心路歷程\n",
    "遇到的ERROR:\n",
    ">### 1.'list' object is not callable \n",
    ">### if queue(0) in data:打錯改成中括弧\n",
    "\n",
    ">### 2.list index out o 2.list index out o>f range\n",
    ">### 當queue[0]在data裡面時刪去他，但假設刪掉後沒有數了，下一行queue.pop(0)則會沒東西刪\n",
    "\n",
    "有點怪的地方:\n",
    "\n",
    ">### 1.明明有append東西進data,但卻是None\n",
    ">### 我忘了print(data)\n",
    "\n",
    ">### 2.if queue[0]  in data: ,結果跑出None\n",
    ">### 條件設反了，因為queue[0]有在data裡面才會執行後面的步驟，所以我改成 not in\n",
    "   \n",
    "  \n",
    " \n"
   ]
  },
  {
   "cell_type": "markdown",
   "metadata": {},
   "source": [
    "![](https://github.com/only980531/python/blob/master/%E5%9C%96%E7%89%87/S__8929282.jpg?raw=true)"
   ]
  },
  {
   "cell_type": "markdown",
   "metadata": {},
   "source": [
    "# BFS\n",
    ">### 廣度優先搜尋(上層先拜訪)\n",
    ">### 使用的資料結構:Queue\n",
    ">### 先進先出\n",
    ">### 比較省時\n",
    ">### 時間複雜度 O(V)"
   ]
  },
  {
   "cell_type": "markdown",
   "metadata": {},
   "source": [
    "# DFS\n",
    ">### 深度優先搜尋(先走一條到底再回頭找沒走過的)\n",
    ">### 使用的資料結構:Stack\n",
    ">### 先進後出\n",
    ">### 比較費時\n",
    ">### 時間複雜度 O(V)"
   ]
  },
  {
   "cell_type": "markdown",
   "metadata": {},
   "source": [
    "http://f74461036.pixnet.net/blog/post/352335176-%5bpython%5dbfs%28%E5%BB%A3%E5%BA%A6%E5%84%AA%E5%85%88%E6%90%9C%E5%B0%8B%29-%E3%80%81-dfs%28%E6%B7%B1%E5%BA%A6%E5%84%AA%E5%85%88%E6%90%9C%E5%B0%8B%29"
   ]
  }
 ],
 "metadata": {
  "kernelspec": {
   "display_name": "Python 3",
   "language": "python",
   "name": "python3"
  },
  "language_info": {
   "codemirror_mode": {
    "name": "ipython",
    "version": 3
   },
   "file_extension": ".py",
   "mimetype": "text/x-python",
   "name": "python",
   "nbconvert_exporter": "python",
   "pygments_lexer": "ipython3",
   "version": "3.7.1"
  }
 },
 "nbformat": 4,
 "nbformat_minor": 2
}
